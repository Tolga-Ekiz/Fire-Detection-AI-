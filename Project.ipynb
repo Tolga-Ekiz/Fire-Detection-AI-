{
 "cells": [
  {
   "cell_type": "code",
   "execution_count": 1,
   "id": "596e2fe4",
   "metadata": {
    "tags": [
     "a"
    ]
   },
   "outputs": [],
   "source": [
    "import matplotlib.pyplot as plt\n",
    "import numpy as np\n",
    "import pandas as pd\n",
    "import math\n",
    "import random\n"
   ]
  },
  {
   "cell_type": "code",
   "execution_count": null,
   "id": "0e7f2cc7-aa43-431e-b619-6d53b684f434",
   "metadata": {
    "tags": []
   },
   "outputs": [],
   "source": [
    "\"\"\"\n",
    "df = pd.read_csv ('smoke_detection_iot.csv')\n",
    "df= df.sample(frac=1)         #suffles the data, this is because they were sorted by Fire alarm\n",
    "\n",
    "df=df.drop(['Unnamed: 0','UTC','CNT'],axis=1)\n",
    "\n",
    "\n",
    "df.head(37578).to_csv('train.csv')\n",
    "df.tail(25052).to_csv('test_and_validation.csv')  #first half of test_and_validation is for test, the second half is for valiadation only  \n",
    "                                                  #60-20-20 train,test,validation split.\n",
    "df.to_csv('suffeled.csv')\n",
    "\n",
    "#So that if I accidentally run the program, I won't accidentally train on test or validation data\n",
    "\"\"\""
   ]
  },
  {
   "cell_type": "code",
   "execution_count": 2,
   "id": "d481c984-bc92-4a56-8dc5-487036abe31a",
   "metadata": {
    "tags": []
   },
   "outputs": [],
   "source": [
    "df = pd.read_csv ('train.csv')\n",
    "df=df.drop(['Unnamed: 0'], axis=1)\n",
    "X_d=df.drop(['Fire Alarm'], axis=1) #_d means dataframe version of the matrix\n",
    "Y_d=df['Fire Alarm']"
   ]
  },
  {
   "cell_type": "code",
   "execution_count": 3,
   "id": "64fad0e8-85bc-4cdd-8388-f6b5ecfcd80e",
   "metadata": {},
   "outputs": [
    {
     "data": {
      "text/html": [
       "<div>\n",
       "<style scoped>\n",
       "    .dataframe tbody tr th:only-of-type {\n",
       "        vertical-align: middle;\n",
       "    }\n",
       "\n",
       "    .dataframe tbody tr th {\n",
       "        vertical-align: top;\n",
       "    }\n",
       "\n",
       "    .dataframe thead th {\n",
       "        text-align: right;\n",
       "    }\n",
       "</style>\n",
       "<table border=\"1\" class=\"dataframe\">\n",
       "  <thead>\n",
       "    <tr style=\"text-align: right;\">\n",
       "      <th></th>\n",
       "      <th>Temperature[C]</th>\n",
       "      <th>Humidity[%]</th>\n",
       "      <th>TVOC[ppb]</th>\n",
       "      <th>eCO2[ppm]</th>\n",
       "      <th>Raw H2</th>\n",
       "      <th>Raw Ethanol</th>\n",
       "      <th>Pressure[hPa]</th>\n",
       "      <th>PM1.0</th>\n",
       "      <th>PM2.5</th>\n",
       "      <th>NC0.5</th>\n",
       "      <th>NC1.0</th>\n",
       "      <th>NC2.5</th>\n",
       "      <th>Fire Alarm</th>\n",
       "    </tr>\n",
       "  </thead>\n",
       "  <tbody>\n",
       "    <tr>\n",
       "      <th>0</th>\n",
       "      <td>26.940</td>\n",
       "      <td>47.03</td>\n",
       "      <td>1122</td>\n",
       "      <td>598</td>\n",
       "      <td>12821</td>\n",
       "      <td>19458</td>\n",
       "      <td>939.054</td>\n",
       "      <td>2.30</td>\n",
       "      <td>2.39</td>\n",
       "      <td>15.81</td>\n",
       "      <td>2.465</td>\n",
       "      <td>0.056</td>\n",
       "      <td>1</td>\n",
       "    </tr>\n",
       "    <tr>\n",
       "      <th>1</th>\n",
       "      <td>-4.158</td>\n",
       "      <td>43.37</td>\n",
       "      <td>132</td>\n",
       "      <td>400</td>\n",
       "      <td>12794</td>\n",
       "      <td>20600</td>\n",
       "      <td>937.413</td>\n",
       "      <td>2.00</td>\n",
       "      <td>2.08</td>\n",
       "      <td>13.75</td>\n",
       "      <td>2.145</td>\n",
       "      <td>0.048</td>\n",
       "      <td>0</td>\n",
       "    </tr>\n",
       "    <tr>\n",
       "      <th>2</th>\n",
       "      <td>20.400</td>\n",
       "      <td>46.92</td>\n",
       "      <td>17</td>\n",
       "      <td>400</td>\n",
       "      <td>13214</td>\n",
       "      <td>20139</td>\n",
       "      <td>939.600</td>\n",
       "      <td>0.88</td>\n",
       "      <td>0.92</td>\n",
       "      <td>6.06</td>\n",
       "      <td>0.946</td>\n",
       "      <td>0.021</td>\n",
       "      <td>0</td>\n",
       "    </tr>\n",
       "    <tr>\n",
       "      <th>3</th>\n",
       "      <td>20.531</td>\n",
       "      <td>47.86</td>\n",
       "      <td>1182</td>\n",
       "      <td>400</td>\n",
       "      <td>12921</td>\n",
       "      <td>19432</td>\n",
       "      <td>938.688</td>\n",
       "      <td>1.39</td>\n",
       "      <td>1.44</td>\n",
       "      <td>9.56</td>\n",
       "      <td>1.490</td>\n",
       "      <td>0.034</td>\n",
       "      <td>1</td>\n",
       "    </tr>\n",
       "    <tr>\n",
       "      <th>4</th>\n",
       "      <td>12.354</td>\n",
       "      <td>48.59</td>\n",
       "      <td>164</td>\n",
       "      <td>436</td>\n",
       "      <td>12771</td>\n",
       "      <td>20557</td>\n",
       "      <td>937.370</td>\n",
       "      <td>1.70</td>\n",
       "      <td>1.76</td>\n",
       "      <td>11.67</td>\n",
       "      <td>1.820</td>\n",
       "      <td>0.041</td>\n",
       "      <td>0</td>\n",
       "    </tr>\n",
       "    <tr>\n",
       "      <th>...</th>\n",
       "      <td>...</td>\n",
       "      <td>...</td>\n",
       "      <td>...</td>\n",
       "      <td>...</td>\n",
       "      <td>...</td>\n",
       "      <td>...</td>\n",
       "      <td>...</td>\n",
       "      <td>...</td>\n",
       "      <td>...</td>\n",
       "      <td>...</td>\n",
       "      <td>...</td>\n",
       "      <td>...</td>\n",
       "      <td>...</td>\n",
       "    </tr>\n",
       "    <tr>\n",
       "      <th>37573</th>\n",
       "      <td>13.116</td>\n",
       "      <td>45.07</td>\n",
       "      <td>65</td>\n",
       "      <td>449</td>\n",
       "      <td>12794</td>\n",
       "      <td>20705</td>\n",
       "      <td>937.495</td>\n",
       "      <td>2.20</td>\n",
       "      <td>2.29</td>\n",
       "      <td>15.15</td>\n",
       "      <td>2.363</td>\n",
       "      <td>0.053</td>\n",
       "      <td>0</td>\n",
       "    </tr>\n",
       "    <tr>\n",
       "      <th>37574</th>\n",
       "      <td>-4.080</td>\n",
       "      <td>55.26</td>\n",
       "      <td>301</td>\n",
       "      <td>400</td>\n",
       "      <td>13111</td>\n",
       "      <td>19963</td>\n",
       "      <td>939.424</td>\n",
       "      <td>0.31</td>\n",
       "      <td>0.33</td>\n",
       "      <td>2.16</td>\n",
       "      <td>0.337</td>\n",
       "      <td>0.008</td>\n",
       "      <td>1</td>\n",
       "    </tr>\n",
       "    <tr>\n",
       "      <th>37575</th>\n",
       "      <td>5.410</td>\n",
       "      <td>53.29</td>\n",
       "      <td>1048</td>\n",
       "      <td>669</td>\n",
       "      <td>12795</td>\n",
       "      <td>19483</td>\n",
       "      <td>939.057</td>\n",
       "      <td>2.67</td>\n",
       "      <td>2.77</td>\n",
       "      <td>18.35</td>\n",
       "      <td>2.862</td>\n",
       "      <td>0.065</td>\n",
       "      <td>1</td>\n",
       "    </tr>\n",
       "    <tr>\n",
       "      <th>37576</th>\n",
       "      <td>18.770</td>\n",
       "      <td>47.62</td>\n",
       "      <td>1132</td>\n",
       "      <td>609</td>\n",
       "      <td>12805</td>\n",
       "      <td>19450</td>\n",
       "      <td>939.030</td>\n",
       "      <td>2.03</td>\n",
       "      <td>2.11</td>\n",
       "      <td>13.97</td>\n",
       "      <td>2.178</td>\n",
       "      <td>0.049</td>\n",
       "      <td>1</td>\n",
       "    </tr>\n",
       "    <tr>\n",
       "      <th>37577</th>\n",
       "      <td>26.800</td>\n",
       "      <td>48.57</td>\n",
       "      <td>1283</td>\n",
       "      <td>408</td>\n",
       "      <td>12938</td>\n",
       "      <td>19415</td>\n",
       "      <td>938.740</td>\n",
       "      <td>1.61</td>\n",
       "      <td>1.67</td>\n",
       "      <td>11.06</td>\n",
       "      <td>1.725</td>\n",
       "      <td>0.039</td>\n",
       "      <td>1</td>\n",
       "    </tr>\n",
       "  </tbody>\n",
       "</table>\n",
       "<p>37578 rows × 13 columns</p>\n",
       "</div>"
      ],
      "text/plain": [
       "       Temperature[C]  Humidity[%]  TVOC[ppb]  eCO2[ppm]  Raw H2  Raw Ethanol  \\\n",
       "0              26.940        47.03       1122        598   12821        19458   \n",
       "1              -4.158        43.37        132        400   12794        20600   \n",
       "2              20.400        46.92         17        400   13214        20139   \n",
       "3              20.531        47.86       1182        400   12921        19432   \n",
       "4              12.354        48.59        164        436   12771        20557   \n",
       "...               ...          ...        ...        ...     ...          ...   \n",
       "37573          13.116        45.07         65        449   12794        20705   \n",
       "37574          -4.080        55.26        301        400   13111        19963   \n",
       "37575           5.410        53.29       1048        669   12795        19483   \n",
       "37576          18.770        47.62       1132        609   12805        19450   \n",
       "37577          26.800        48.57       1283        408   12938        19415   \n",
       "\n",
       "       Pressure[hPa]  PM1.0  PM2.5  NC0.5  NC1.0  NC2.5  Fire Alarm  \n",
       "0            939.054   2.30   2.39  15.81  2.465  0.056           1  \n",
       "1            937.413   2.00   2.08  13.75  2.145  0.048           0  \n",
       "2            939.600   0.88   0.92   6.06  0.946  0.021           0  \n",
       "3            938.688   1.39   1.44   9.56  1.490  0.034           1  \n",
       "4            937.370   1.70   1.76  11.67  1.820  0.041           0  \n",
       "...              ...    ...    ...    ...    ...    ...         ...  \n",
       "37573        937.495   2.20   2.29  15.15  2.363  0.053           0  \n",
       "37574        939.424   0.31   0.33   2.16  0.337  0.008           1  \n",
       "37575        939.057   2.67   2.77  18.35  2.862  0.065           1  \n",
       "37576        939.030   2.03   2.11  13.97  2.178  0.049           1  \n",
       "37577        938.740   1.61   1.67  11.06  1.725  0.039           1  \n",
       "\n",
       "[37578 rows x 13 columns]"
      ]
     },
     "execution_count": 3,
     "metadata": {},
     "output_type": "execute_result"
    }
   ],
   "source": [
    "df "
   ]
  },
  {
   "cell_type": "code",
   "execution_count": 6,
   "id": "bd1674c5-c5a7-4ab7-b325-8870317a6311",
   "metadata": {},
   "outputs": [],
   "source": [
    "X =X_d.to_numpy() #Normalize X\n",
    "Y=Y_d.to_numpy()\n",
    "def normalize(X):\n",
    "    mean=[]\n",
    "    std=[]\n",
    "    for i in range(12):\n",
    "        mean.append(np.mean(X[:,i]))\n",
    "        std.append(np.std(X[:,i]))\n",
    "    mean=np.array(mean)\n",
    "    std=np.array(std)\n",
    "    a=np.ones((len(X[:,1])))\n",
    "    X_std=np.divide(X-np.outer(a,mean),np.outer(a,std))\n",
    "    return X_std\n",
    "X_std=normalize(X)"
   ]
  },
  {
   "cell_type": "code",
   "execution_count": 10,
   "id": "391bb1d1-8170-4870-9828-11edb186de1f",
   "metadata": {},
   "outputs": [
    {
     "name": "stdout",
     "output_type": "stream",
     "text": [
      "If we use the first 0 Principal Components, the total explained variance is:0.0\n",
      "If we use the first 1 Principal Components, the total explained variance is:0.5233308417468326\n",
      "If we use the first 2 Principal Components, the total explained variance is:0.6777496570809236\n",
      "If we use the first 3 Principal Components, the total explained variance is:0.8004172346663405\n",
      "If we use the first 4 Principal Components, the total explained variance is:0.873062198763229\n",
      "If we use the first 5 Principal Components, the total explained variance is:0.9161051464600126\n",
      "If we use the first 6 Principal Components, the total explained variance is:0.9471111945814092\n",
      "If we use the first 7 Principal Components, the total explained variance is:0.9705926851577318\n",
      "If we use the first 8 Principal Components, the total explained variance is:0.989497534917677\n",
      "If we use the first 9 Principal Components, the total explained variance is:0.9999999999989929\n",
      "If we use the first 10 Principal Components, the total explained variance is:0.9999999999997932\n",
      "If we use the first 11 Principal Components, the total explained variance is:0.9999999999999631\n",
      "If we use the first 12 Principal Components, the total explained variance is:1.0\n"
     ]
    },
    {
     "data": {
      "image/png": "[encoded data removed]",
      "text/plain": [
       "<Figure size 432x288 with 1 Axes>"
      ]
     },
     "metadata": {
      "needs_background": "light"
     },
     "output_type": "display_data"
    }
   ],
   "source": [
    "#PCA\n",
    "cov_X= (np.matmul(X_std.T,X_std))/len(X_std[:,1]) #Same result with np.cov(X_std,rowvar=False)\n",
    "eigval_X ,eigvec_X =np.linalg.eig(cov_X)\n",
    "index=eigval_X.argsort()[::-1] #to sort eigenvalues and vectors (max to min)\n",
    "eigval_X=eigval_X[index]\n",
    "eigvec_X=eigvec_X[:,index]\n",
    "total_var_explained=sum(eigval_X)\n",
    "\n",
    "cum_var_explained=[0]\n",
    "for i in range(12):\n",
    "    cum_var_explained.append(sum(eigval_X[:i+1]))\n",
    "total_var_explained_ratio=cum_var_explained/total_var_explained\n",
    "plt.plot([x for x in range(13)],total_var_explained_ratio , 'ro')\n",
    "plt.plot([x for x in range(13)],total_var_explained_ratio )    #I picked 6 PC because the total var explained was 94.71\n",
    "plt.xlabel('Number of PC components')\n",
    "plt.ylabel('Total explained variance ratio')\n",
    "for i in range(13):\n",
    "    print(f'If we use the first {i} Principal Components, the total explained variance is:{total_var_explained_ratio[i]}')\n",
    "#plt.savefig('total_var_explained.png') "
   ]
  },
  {
   "cell_type": "code",
   "execution_count": 11,
   "id": "0ff4b87b-2932-4f76-93b4-63ddef55b2b8",
   "metadata": {},
   "outputs": [],
   "source": [
    "X_prjct=np.dot(X_std,eigvec_X[:,:6])#data projected to 6 different eigenvectors where the eigen vectors are #len=12\n",
    "#the new 6 columns represent the length of the projection to the PC where it goes PC1,PC2...PC6 \n",
    "#(to go back to the original data, we can use np.matmul(X_prjct,eigvec_X[:,:6].T)) Note that there will be lost infromation.\n",
    "X_dsgn=np.c_[ np.ones(len(X_prjct[:,1])),X_prjct]  "
   ]
  },
  {
   "cell_type": "code",
   "execution_count": 12,
   "id": "00d5a7ee-36fd-49ed-8e2a-ff9809e874e8",
   "metadata": {},
   "outputs": [],
   "source": [
    "#Logistic regression \n",
    "#useful functions\n",
    "def sigmoid(x):\n",
    "    return 1/(1 + math.exp(-x))\n",
    "\n",
    "def cross_entropy_loss_total(X,Y,b):#Y-> correct classification, X-> Data with length of features + 1(design), b-> beta values\n",
    "    total=0\n",
    "    for i in range(len(Y)):\n",
    "        total+=Y[i]*(math.log(sigmoid(np.dot(b,X[i,:])))) + (1-Y[i])*(math.log(1-sigmoid(np.dot(b,X[i,:]))))\n",
    "    return (-1/len(X[:,0]))*total\n",
    "\n",
    "def gradient(X,Y,b,b_j): #b_j is the subscript of beta that the loss is differentiated to. (i.e. 0,1,2,3..)\n",
    "    total=0\n",
    "    for i in range(len(Y)):\n",
    "        total+= (sigmoid(np.dot(b,X[i,:]))-Y[i])*X[i,b_j]\n",
    "    return (1/len(Y))*total\n",
    "\n",
    "def gradient_descent(learning_rate,X,Y,b):\n",
    "    c=b.copy() #This line is because it gradient function uses b, and we don't want it changeing during a single epoch\n",
    "    for j in range(len(b)):\n",
    "        b[j]=b[j]-learning_rate*gradient(X,Y,c,j)\n",
    "    return b\n",
    "def prediction(X_dsgn,b,threshold):\n",
    "    y_prediction=[]\n",
    "    for i in range(len(X_dsgn[:,1])):\n",
    "        if sigmoid(np.matmul(b,X_dsgn[i,:]))> threshold:\n",
    "            y_prediction.append(1)\n",
    "        else:\n",
    "            y_prediction.append(0)\n",
    "    return y_prediction\n",
    "def accuracy(Y,X_dsgn,threshold,b):\n",
    "    total=0 \n",
    "    for i in range(len(Y)):\n",
    "        pred=0\n",
    "        if sigmoid(np.dot(b,X_dsgn[i,:]))> threshold:\n",
    "            pred=1\n",
    "        else:\n",
    "            pred=0\n",
    "        total+=abs(pred-Y[i])\n",
    "    return (1-total/len(Y))"
   ]
  },
  {
   "cell_type": "code",
   "execution_count": 13,
   "id": "3c664779-47c9-4f12-a5a3-70d818b31b8f",
   "metadata": {},
   "outputs": [],
   "source": [
    "df_t = pd.read_csv ('test_and_validation.csv').tail(12526) #test data, _t indicates test, _v indicates validation\n",
    "df_t=df_t.drop(['Unnamed: 0'], axis=1)\n",
    "X_dt=df_t.drop(['Fire Alarm'], axis=1).to_numpy() #_d means dataframe version of the matrix\n",
    "Y_dt=df_t['Fire Alarm'].to_numpy()\n",
    "X_std_t=normalize(X_dt) #standardized test data\n",
    "X_prjct_t=np.dot(X_std_t,eigvec_X[:,:6]) #standardized then projected test data to PC components\n",
    "X_dsgn_t=np.c_[ np.ones(len(X_prjct_t[:,1])),X_prjct_t]  #test design matrix with the first coulmn equaling to 1"
   ]
  },
  {
   "cell_type": "code",
   "execution_count": 14,
   "id": "95e70ba6-306f-419f-b02b-1e334287ba52",
   "metadata": {},
   "outputs": [],
   "source": [
    "df_v = pd.read_csv ('test_and_validation.csv').head(12526) #validation data , _t indicates test, _v indicates validation\n",
    "df_v=df_v.drop(['Unnamed: 0'], axis=1)\n",
    "X_dv=df_v.drop(['Fire Alarm'], axis=1).to_numpy() #_d means dataframe version of the matrix\n",
    "Y_dv=df_v['Fire Alarm'].to_numpy()\n",
    "X_std_v=normalize(X_dv)   #standardized validation data\n",
    "X_prjct_v=np.dot(X_std_v,eigvec_X[:,:6]) #standardized then projected validation data to PC components\n",
    "X_dsgn_v=np.c_[ np.ones(len(X_prjct_v[:,1])),X_prjct_v]  #validation design matrix with the first column equaling to 1"
   ]
  },
  {
   "cell_type": "code",
   "execution_count": 29,
   "id": "03944464-a027-4e51-b7a3-955c76601e6f",
   "metadata": {},
   "outputs": [],
   "source": [
    "b=[0,0,0,0,0,0,0]#starting at all beta 0 "
   ]
  },
  {
   "cell_type": "code",
   "execution_count": 30,
   "id": "50745cbc-b196-47eb-99e1-0870096164f1",
   "metadata": {},
   "outputs": [
    {
     "name": "stdout",
     "output_type": "stream",
     "text": [
      "The coeficients are :[0, 0, 0, 0, 0, 0, 0] \t The cost is: 0.693147180559426 \n",
      "The coeficients are :[0.43051785619245303, 0.27625400984773646, -0.363236214305598, 0.307263784245058, 0.0699325461602019, 0.05419380215327863, 0.14161464324926265] \t The cost is: 0.5418216605877906 \n",
      "The coeficients are :[0.6306495034140629, 0.14845983016037398, -0.42514817240977737, 0.44938415578919433, 0.11254022663782312, 0.08204582471383928, 0.2713073131503164] \t The cost is: 0.5011718614925802 \n",
      "The coeficients are :[0.7579197569938683, 0.09083024156491434, -0.4839884573110073, 0.5092120267876796, 0.14127447474535176, 0.10982197336827432, 0.37320911018851366] \t The cost is: 0.48599919527748514 \n",
      "The coeficients are :[0.8375670400191727, 0.14302028075814502, -0.5210445883416394, 0.5393068929888591, 0.1624700423794003, 0.13753666544352258, 0.4598648345936015] \t The cost is: 0.47826720800441747 \n",
      "The coeficients are :[0.8872947946292341, 0.09905710535252715, -0.5446583398477516, 0.563958797329875, 0.17674314181873044, 0.1588606750516713, 0.5420406782755494] \t The cost is: 0.4733318744265802 \n",
      "The coeficients are :[0.9215362014943479, 0.14402483421450651, -0.5577393085820218, 0.5808637448947124, 0.18703631773864546, 0.18082210551597713, 0.6111220083964405] \t The cost is: 0.4698914287573557 \n",
      "The coeficients are :[0.9437097109055159, 0.11584062976056769, -0.5685290370567946, 0.5945205153798301, 0.1942695026842603, 0.19818620806740564, 0.6782436571791632] \t The cost is: 0.4672574319142044 \n",
      "The coeficients are :[0.9603904465748663, 0.13908919546504572, -0.5760136646920045, 0.6038071209246245, 0.19964179211910574, 0.21563949214809872, 0.7358571903840538] \t The cost is: 0.4652148629699514 \n",
      "The coeficients are :[0.9716373159142228, 0.1322722435080803, -0.5820812605827522, 0.6115203392520284, 0.2035463720352574, 0.23020137345755995, 0.7908529373668868] \t The cost is: 0.46357207243450693 \n",
      "The coeficients are :[0.980431816378635, 0.13987354960023007, -0.5877370713139819, 0.6164476935712464, 0.20661588789702331, 0.24379487425416763, 0.8404378161517846] \t The cost is: 0.4622146594890028 \n",
      "CPU times: user 19 s, sys: 74.3 ms, total: 19.1 s\n",
      "Wall time: 19.1 s\n"
     ]
    }
   ],
   "source": [
    "%%time\n",
    "train_loss=[cross_entropy_loss_total(X_dsgn,Y,b)]\n",
    "epoch=10\n",
    "learing_rate=2\n",
    "print(f'The coeficients are :{b} \\t The cost is: {cross_entropy_loss_total(X_dsgn,Y,b)} ')\n",
    "for t in range(epoch):\n",
    "    b=gradient_descent(learing_rate,X_dsgn,Y,b)\n",
    "    train_loss.append(cross_entropy_loss_total(X_dsgn,Y,b))\n",
    "    print(f'The coeficients are :{b} \\t The cost is: {cross_entropy_loss_total(X_dsgn,Y,b)} ')"
   ]
  },
  {
   "cell_type": "code",
   "execution_count": 31,
   "id": "30a4fcab-2982-4982-9dc6-c948fd52bd1a",
   "metadata": {},
   "outputs": [
    {
     "name": "stdout",
     "output_type": "stream",
     "text": [
      "The accuarcy for the traing data is: 0.8266006706051413, and the accuarcy for the validation data is: 0.8267603384959284\n"
     ]
    }
   ],
   "source": [
    "print(f'The accuarcy for the traing data is: {accuracy(Y,X_dsgn,0.5,b)}, and the accuarcy for the validation data is: {accuracy(Y_dv,X_dsgn_v,0.5,b)}')\n",
    "#0.5 is the threshold"
   ]
  },
  {
   "cell_type": "code",
   "execution_count": 32,
   "id": "8eb9bd2a-ec01-4981-a9d3-53ad91cedea3",
   "metadata": {},
   "outputs": [
    {
     "name": "stdout",
     "output_type": "stream",
     "text": [
      "The accuarcy for the traing data is: 0.8266006706051413, and the accuarcy for the test data is: 0.8281175155676194\n"
     ]
    }
   ],
   "source": [
    "#Thus, we can see that there is no overfit so we can use the described model above. Final metrics are:\n",
    "print(f'The accuarcy for the traing data is: {accuracy(Y,X_dsgn,0.5,b)}, and the accuarcy for the test data is: {accuracy(Y_dt,X_dsgn_t,0.5,b)}')"
   ]
  },
  {
   "cell_type": "code",
   "execution_count": 33,
   "id": "48bfa296-b8c2-4fbe-8e12-2df854c2b778",
   "metadata": {},
   "outputs": [
    {
     "data": {
      "text/plain": [
       "Text(0.5, 1.0, 'CE Loss vs Epoch, At learning rate = 2')"
      ]
     },
     "execution_count": 33,
     "metadata": {},
     "output_type": "execute_result"
    },
    {
     "data": {
      "image/png": "[encoded data removed]",
      "text/plain": [
       "<Figure size 432x288 with 1 Axes>"
      ]
     },
     "metadata": {
      "needs_background": "light"
     },
     "output_type": "display_data"
    }
   ],
   "source": [
    "plt.plot([x for x in range(len(train_loss))],train_loss)\n",
    "plt.xlabel('Epoch')\n",
    "plt.ylabel('Cross Entropy Loss')\n",
    "plt.title('CE Loss vs Epoch, At learning rate = 2')\n",
    "#plt.savefig('lr0.1.png')"
   ]
  },
  {
   "cell_type": "code",
   "execution_count": 34,
   "id": "2d588c03-a558-4918-b2a4-c46c0d08a1d6",
   "metadata": {},
   "outputs": [],
   "source": [
    "b_original=[0,0,0,0,0,0,0,0,0,0,0,0,0]"
   ]
  },
  {
   "cell_type": "code",
   "execution_count": 35,
   "id": "2fb4430d-f12c-43c3-a4dc-f46d38b084f8",
   "metadata": {
    "tags": []
   },
   "outputs": [
    {
     "name": "stdout",
     "output_type": "stream",
     "text": [
      "The coeficients are :[0, 0, 0, 0, 0, 0, 0, 0, 0, 0, 0, 0, 0] \t The cost is: 0.693147180559426 \n",
      "The coeficients are :[0.43051785619245303, -0.14504150521896836, 0.3592659937347747, -0.19015900445884834, -0.08751673525609366, 0.09677553328392853, -0.31345931984153025, 0.22359629775964257, -0.09918413904770566, -0.07587956642844555, -0.11411275909311014, -0.07393293620925015, -0.05021580898451912] \t The cost is: 0.5158909240770833 \n",
      "The coeficients are :[0.6332522727937726, -0.16550168333509724, 0.43151206759878913, -0.22500257414516667, -0.035871350593567164, 0.0754793240423646, -0.5993758728887342, 0.17868359560222838, -0.07118156824943374, -0.04186135723722539, -0.09600702372549187, -0.03960676981767325, -0.013595021698683298] \t The cost is: 0.4559443403543754 \n",
      "The coeficients are :[0.7675014809315011, -0.18358363028969807, 0.4830199586208752, -0.29202727890736246, -0.0034945926340634523, 0.0964997412293585, -0.799166396240124, 0.11658547174258353, -0.0571987013218546, -0.01719879003467446, -0.09556602007667109, -0.014267818092620631, 0.01836886414113749] \t The cost is: 0.4242715762193029 \n",
      "The coeficients are :[0.8567661818298256, -0.19962266113711896, 0.5323444417995443, -0.39481738583364134, -0.011443047285662259, 0.15643086436301026, -0.9353362298631647, 0.056088144924840044, -0.08782110441793456, -0.03475938233273408, -0.1373705831172669, -0.030827964719568574, 0.013318954613565893] \t The cost is: 0.4024119672530607 \n",
      "The coeficients are :[0.9181832165689199, -0.21308943167200137, 0.5518850208893556, -0.45363926612232514, 0.019527758090271293, 0.18037441253382736, -1.0847672552675205, -0.02520883571378245, -0.07477804956793588, -0.013026566112910962, -0.13553395060315407, -0.008550836375233791, 0.04086767474921556] \t The cost is: 0.38514168017743533 \n",
      "The coeficients are :[0.9640088285587018, -0.22840798173782786, 0.5838697582470634, -0.5448247954236645, 0.008223445755749029, 0.23944049261637326, -1.1885312201381253, -0.08586102958530545, -0.11075577173216548, -0.04088899682204179, -0.17654810624519446, -0.035730165023293806, 0.02205006759525961] \t The cost is: 0.3712711937646082 \n",
      "The coeficients are :[0.9984484695733108, -0.2424311500501667, 0.5936842394986391, -0.5916818024370473, 0.04046919919036427, 0.2594235985458718, -1.3152948745214081, -0.1645184559030629, -0.0923178729162041, -0.01565456650955736, -0.1678036752635456, -0.010099900030973077, 0.05121530517945233] \t The cost is: 0.3591102542435797 \n",
      "The coeficients are :[1.0270414071011507, -0.25861848140412474, 0.6208735765089152, -0.6706273824478339, 0.028214908296596744, 0.31485372090399594, -1.4015920202308183, -0.2157861893588332, -0.12467031958344027, -0.04262593019238717, -0.2025378899713663, -0.036587474308841524, 0.030878881366052408] \t The cost is: 0.3490528171604861 \n",
      "The coeficients are :[1.0496698340253088, -0.27329012547620296, 0.630261125638831, -0.7129336427347384, 0.0541430564845279, 0.3362429224268678, -1.508652110713388, -0.28354385498549106, -0.1090211701317594, -0.021545903820808888, -0.1947377608698348, -0.015194472111457274, 0.055031154699586665] \t The cost is: 0.34005061854287344 \n",
      "The coeficients are :[1.0701716336715519, -0.2892293569648066, 0.6529216256559807, -0.7770145370195344, 0.04753492755820754, 0.3827336537686023, -1.5867981823639636, -0.32866893552892107, -0.13126391353012387, -0.040360147365273005, -0.21831434855479645, -0.033694555531909295, 0.04056658330576122] \t The cost is: 0.33240650516726156 \n",
      "CPU times: user 26.9 s, sys: 218 ms, total: 27.1 s\n",
      "Wall time: 27.1 s\n"
     ]
    }
   ],
   "source": [
    "%%time \n",
    "# Logistic Regression without PCA\n",
    "X_dsgn_original=np.c_[ np.ones(len(X_std[:,1])),X_std] #Used standardized version because without it we can see extremely big numbers which makes the math libary give out erros.\n",
    "print(f'The coeficients are :{b_original} \\t The cost is: {cross_entropy_loss_total(X_dsgn_original,Y,b_original)} ')\n",
    "for t in range(epoch):\n",
    "    b_original=gradient_descent(2,X_dsgn_original,Y,b_original)\n",
    "    print(f'The coeficients are :{b_original} \\t The cost is: {cross_entropy_loss_total(X_dsgn_original,Y,b_original)} ')"
   ]
  },
  {
   "cell_type": "code",
   "execution_count": 36,
   "id": "03f489ce-8de4-44cb-8757-655b3c91f10c",
   "metadata": {
    "jp-MarkdownHeadingCollapsed": true,
    "tags": []
   },
   "outputs": [
    {
     "name": "stdout",
     "output_type": "stream",
     "text": [
      "The accuarcy for the traing data is: 0.8715471818617276, and the accuarcy for the validation data is: 0.8688328277183458 test accuaracy is : 0.8687529937729522\n"
     ]
    }
   ],
   "source": [
    " print(f'The accuarcy for the traing data is: {accuracy(Y,X_dsgn_original,0.5,b_original)}, and the accuarcy for the validation data is: {accuracy(Y_dv,np.c_[ np.ones(len(X_std_v[:,1])),X_std_v],0.5,b_original)} test accuaracy is : {accuracy(Y_dt,np.c_[ np.ones(len(X_std_t[:,1])),X_std_t],0.5,b_original)}')"
   ]
  },
  {
   "cell_type": "code",
   "execution_count": 37,
   "id": "16a1c196-7751-47bc-bb3f-193116625d66",
   "metadata": {},
   "outputs": [],
   "source": [
    "#Neural Network\n",
    "def RelU(x):\n",
    "    return np.maximum(0, x)\n",
    "\n",
    "def derRelU(z):\n",
    "    return (z>0)\n",
    "\n",
    "def initialize(neurons): #where neurons is a list where all of neuron count info is stored, layer by layer\n",
    "    B1=[np.random.randn(i) for i in neurons[1:]][0]\n",
    "    B2=[np.random.randn(i) for i in neurons[1:]][1]\n",
    "    B3=[np.random.randn(i) for i in neurons[1:]][2] \n",
    "    W1=[np.random.randn(j, i) for i,j  in zip(neurons[:-1], neurons[1:])][0] \n",
    "    W2=[np.random.randn(j, i) for i,j  in zip(neurons[:-1], neurons[1:])][1] \n",
    "    W3=[np.random.randn(j,i) for i,j  in zip(neurons[:-1], neurons[1:])][2] \n",
    "    return [W1,W2,W3], [B1,B2,B3]\n",
    "\n",
    "def feed_forward(x,W,B): #inputs a single example, outputs Activations ,  z and the output of the network\n",
    "    z1=(np.matmul(W[0],np.array(x).T)+B[0])\n",
    "    a1=RelU(z1)\n",
    "    z2=(np.matmul(W[1], a1)+B[1])\n",
    "    a2=RelU(z2)\n",
    "    z3=(np.matmul(W[2], a2)+B[2])\n",
    "    a3=sigmoid(z3)\n",
    "    output=a3\n",
    "    return [x,a1,a2],[z1,z2,z3], output\n",
    "\n",
    "def back_prop(y,W,B,A,Z,output): #for a sinlge example\n",
    "    #output delta\n",
    "    delta_out=[np.array([output-y])]\n",
    "    #hidden delta\n",
    "    for w, b, a in zip( W[::-1],B[::-1],A[::-1]):\n",
    "        delta_out.append(np.multiply(np.matmul(w.T,delta_out[-1]), derRelU(a))) \n",
    "    delta_out=delta_out[::-1][1:]   #remove dC/dinput\n",
    "    d_weights=[]\n",
    "    for i ,a in zip(delta_out,A):\n",
    "        d_weights.append(np.matmul(np.reshape(i,(len(i),1)), np.reshape(a,(1,len(a)) ))) \n",
    "    d_bias=delta_out\n",
    "    return d_weights, d_bias\n",
    "\n",
    "def update_network(dw,db,W,B,lr):\n",
    "    for i in range(len(W)):\n",
    "        W[i]=np.subtract(W[i],dw[i]*lr)\n",
    "        B[i]=np.subtract(B[i],db[i]*lr)\n",
    "    return W,B\n",
    "\n",
    "def cross_entropy_neural(o,y): #single\n",
    "    return  -(y*math.log(o)+ (1-y)*math.log(1.0001- o)) #causes domain error if it was 1\n",
    "\n",
    "def loss_and_accuracy(X_t,Y_t,X_v,Y_v,W,B):\n",
    "    total_loss_t=0\n",
    "    total_loss_v=0\n",
    "    accuracy_t=0\n",
    "    accuracy_v=0\n",
    "    for xx_t,yy_t in zip(X_t,Y_t):\n",
    "            total_loss_t+= cross_entropy_neural(feed_forward(np.array(xx_t),W,B)[-1],yy_t)\n",
    "            accuracy_t+= abs(yy_t- (feed_forward(np.array(xx_t),W,B)[-1]>0.5))\n",
    "    for xx_v,yy_v in zip(X_v,Y_v):\n",
    "        total_loss_v+= cross_entropy_neural(feed_forward(np.array(xx_v),W,B)[-1],yy_v)\n",
    "        accuracy_v+= abs(yy_v- (feed_forward(np.array(xx_v),W,B)[-1]>0.5))\n",
    "    #return f'train loss ={total_loss_t/len(Y_t)} val: {total_loss_v/len(Y_v)} accuracy: {1-accuracy_t/len(Y_t)} val:{1-accuracy_v/len(Y_v)}'\n",
    "    return total_loss_t/len(Y_t), total_loss_v/len(Y_v), 1-accuracy_t/len(Y_t), 1-accuracy_v/len(Y_v)\n",
    "def SGD(X_t,Y_t,X_v,Y_v,W,B,epoch,lr):\n",
    "    loss_t=[]\n",
    "    loss_v=[]\n",
    "    for x_t,y_t in zip(X_t[:epoch],Y_t[:epoch]):\n",
    "        total_loss_t=0\n",
    "        total_loss_v=0\n",
    "        accuracy_t=0\n",
    "        accuracy_v=0\n",
    "        A,Z,output= feed_forward(np.array(x_t),W,B)\n",
    "        \n",
    "        \"\"\"for xx_t,yy_t in zip(X_t,Y_t):\n",
    "            total_loss_t+= cross_entropy_neural(feed_forward(np.array(xx_t),W,B)[-1],yy_t)\n",
    "            accuracy_t+= abs(yy_t- (feed_forward(np.array(xx_t),W,B)[-1]>0.5))\n",
    "        for xx_v,yy_v in zip(X_v,Y_v):\n",
    "            total_loss_v+= cross_entropy_neural(feed_forward(np.array(xx_v),W,B)[-1],yy_v)\n",
    "            accuracy_v+= abs(yy_v- (feed_forward(np.array(xx_v),W,B)[-1]>0.5))\n",
    "        print(f'train loss ={total_loss_t/len(Y_t)} val: {total_loss_v/len(Y_v)} accuracy: {1-accuracy_t/len(Y_t)} val:{1-accuracy_v/len(Y_v)} ')\n",
    "        loss_t.append(total_loss_t/len(Y_t))\n",
    "        loss_v.append(total_loss_v/len(Y_v))\"\"\"\n",
    "        \n",
    "        dw,db = back_prop(y_t,W,B,A,Z,output)\n",
    "        W,B=update_network(dw,db,W,B,lr)\n",
    "    return W,B,loss_t, loss_v\n",
    "\n",
    "def MBSGD(X_t,Y_t,X_v,Y_v,W,B,epoch,lr,batchsize):\n",
    "    loss_t=[]\n",
    "    loss_v=[]\n",
    "    for i in range(epoch):\n",
    "        c=list(zip(X_t,Y_t))\n",
    "        random.shuffle(c)\n",
    "        c=c[:batchsize]\n",
    "        x_one,y_one = zip(*c)\n",
    "        total_w=0\n",
    "        total_b=0\n",
    "        count=0\n",
    "        for x_t,y_t in zip(x_one,y_one): #one batch\n",
    "            A,Z,output= feed_forward(np.array(x_t),W,B)\n",
    "            dw,db = back_prop(y_t,W,B,A,Z,output)\n",
    "            if count==0:\n",
    "                total_w=dw\n",
    "                total_b=db\n",
    "                count+=1\n",
    "            else:\n",
    "                for i in range(len(dw)): #inside W\n",
    "                    total_w[i]=np.add(total_w[i],dw[i])\n",
    "                    total_b[i]=np.add(total_b[i],db[i])\n",
    "        M=loss_and_accuracy(X_t,Y_t,X_v,Y_v,W,B)\n",
    "        loss_t.append(M[0])\n",
    "        loss_v.append(M[1])\n",
    "        print(f'train loss= {M[0]} val loss: {M[1]} train accuracy{M[2]} val accuracy:{M[3]}')\n",
    "        W,B=update_network(total_w,total_b,W,B,lr/batchsize)\n",
    "    return W,B,loss_t, loss_v"
   ]
  },
  {
   "cell_type": "code",
   "execution_count": 47,
   "id": "793fd036-3da5-416e-bc47-ec91520b9562",
   "metadata": {},
   "outputs": [
    {
     "data": {
      "text/plain": [
       "(12.498595389493577,\n",
       " 12.539541715525354,\n",
       " 0.2732449837670977,\n",
       " 0.27247325562829317)"
      ]
     },
     "execution_count": 47,
     "metadata": {},
     "output_type": "execute_result"
    }
   ],
   "source": [
    "W,B=initialize([6,18,18,1])\n",
    "loss_and_accuracy(X_prjct,Y,X_prjct_v,Y_dv,W,B) #outputs trainloss,valloss, train accuracy, val accuracy"
   ]
  },
  {
   "cell_type": "code",
   "execution_count": 48,
   "id": "252652c3-fc0f-4e05-b233-1c5de958b7fd",
   "metadata": {},
   "outputs": [
    {
     "name": "stdout",
     "output_type": "stream",
     "text": [
      "train loss= 12.498595389493577 val loss: 12.539541715525354 train accuracy0.2732449837670977 val accuracy:0.27247325562829317\n",
      "train loss= 2.453666324362388 val loss: 2.4499573037107463 train accuracy0.729203257224972 val accuracy:0.7302410985150887\n",
      "train loss= 2.1005614243768815 val loss: 2.13068527024235 train accuracy0.5535153547288307 val accuracy:0.547102027782213\n",
      "train loss= 1.6510994993702985 val loss: 1.6785875902590135 train accuracy0.6930384799616798 val accuracy:0.6922401405077439\n",
      "train loss= 1.7389674198971363 val loss: 1.7613119626341571 train accuracy0.5039384746394167 val accuracy:0.5016765128532652\n",
      "train loss= 1.5566149466721404 val loss: 1.5957783512956243 train accuracy0.7827984458991963 val accuracy:0.7787003033689925\n",
      "train loss= 3.2782077444791655 val loss: 3.3026389843976895 train accuracy0.3253765501091064 val accuracy:0.3177391026664538\n",
      "train loss= 2.1940189461011843 val loss: 2.2179687158341195 train accuracy0.7285113630315609 val accuracy:0.7308797700782372\n",
      "train loss= 1.238676267003287 val loss: 1.2485087042738907 train accuracy0.8038479961679706 val accuracy:0.8012134759699825\n",
      "train loss= 1.480036620828496 val loss: 1.4824432247190538 train accuracy0.8515886955133323 val accuracy:0.8520676991856937\n",
      "train loss= 1.8766994862764164 val loss: 1.885809244826586 train accuracy0.7639576347863112 val accuracy:0.7627335142902762\n",
      "train loss= 1.5984736404504034 val loss: 1.5963535617519438 train accuracy0.8093299270849965 val accuracy:0.8065623503113524\n",
      "train loss= 1.018588140185215 val loss: 1.0248034800897847 train accuracy0.8351695140773857 val accuracy:0.8333865559635958\n",
      "train loss= 1.133661625218755 val loss: 1.1386029040443253 train accuracy0.8133216243546756 val accuracy:0.8147054127414977\n",
      "train loss= 1.1680123142034484 val loss: 1.1702465091955456 train accuracy0.8047261695673 val accuracy:0.8036883282771834\n",
      "train loss= 0.6093138338901554 val loss: 0.634698357465098 train accuracy0.8235137580499228 val accuracy:0.8160625898131886\n",
      "train loss= 0.7296340402859683 val loss: 0.7503905498055536 train accuracy0.8165149821704188 val accuracy:0.8178987705572409\n",
      "train loss= 0.7018519843532084 val loss: 0.7189944780534663 train accuracy0.8455479269785513 val accuracy:0.8446431422640907\n",
      "train loss= 0.6524042673197881 val loss: 0.6716807390901617 train accuracy0.8293682473787855 val accuracy:0.8299536963116717\n",
      "train loss= 0.8999124746914535 val loss: 0.9149222717351584 train accuracy0.8116185001862792 val accuracy:0.8083186971100111\n",
      "train loss= 0.5224003785478022 val loss: 0.5379504659436889 train accuracy0.8511096918409709 val accuracy:0.8510298578955772\n",
      "train loss= 0.6190915793962045 val loss: 0.6299178015415076 train accuracy0.8239129277768907 val accuracy:0.8196551173558997\n",
      "train loss= 0.4385684872565975 val loss: 0.45429177944704563 train accuracy0.8580552450902124 val accuracy:0.8569375698547022\n",
      "train loss= 0.5367423652185944 val loss: 0.549002395347095 train accuracy0.8325083825642663 val accuracy:0.8286763531853745\n",
      "train loss= 0.48854966429691327 val loss: 0.5116423261756291 train accuracy0.8572835169514077 val accuracy:0.859651923998084\n",
      "train loss= 0.6100676096667826 val loss: 0.6195655312992573 train accuracy0.8259619990419926 val accuracy:0.8213316302091649\n",
      "train loss= 0.3984581418165088 val loss: 0.4183897298294648 train accuracy0.8687529937729522 val accuracy:0.8679546543190164\n",
      "train loss= 0.48221322389129434 val loss: 0.48718132662258906 train accuracy0.8580552450902124 val accuracy:0.8564585661823407\n",
      "train loss= 0.6601705587149428 val loss: 0.6766977116567534 train accuracy0.8415296183937411 val accuracy:0.8427271275746447\n",
      "train loss= 0.32748176801685114 val loss: 0.3312011716475925 train accuracy0.8632444515407951 val accuracy:0.8616477726329235\n",
      "train loss= 0.2765632599578175 val loss: 0.2841225250165045 train accuracy0.8760178828037681 val accuracy:0.8738623662781415\n",
      "train loss= 0.30230325998458857 val loss: 0.3161321774938032 train accuracy0.8953110862738837 val accuracy:0.8901484911384321\n",
      "train loss= 0.27571811454687734 val loss: 0.2799144772559136 train accuracy0.8792378519346427 val accuracy:0.8796104103464794\n",
      "train loss= 0.4428125036122969 val loss: 0.4598683092726377 train accuracy0.8645217946670924 val accuracy:0.8657193038479962\n",
      "train loss= 0.9532867185628268 val loss: 0.9553336821494739 train accuracy0.8186438873809143 val accuracy:0.8135877375059876\n",
      "train loss= 0.282694411517007 val loss: 0.2922159288905626 train accuracy0.8834956623556336 val accuracy:0.8801692479642343\n",
      "train loss= 0.3077513099337761 val loss: 0.30728121240974826 train accuracy0.8783064559050509 val accuracy:0.87873223694715\n",
      "train loss= 0.3659032149779982 val loss: 0.37145498500068086 train accuracy0.8635371760072383 val accuracy:0.8598914258342647\n",
      "train loss= 0.27264721142264325 val loss: 0.2809092734039182 train accuracy0.8970408217574113 val accuracy:0.8956570333705892\n",
      "train loss= 0.28520645439029785 val loss: 0.28846825187878095 train accuracy0.8998616211613177 val accuracy:0.9003672361488104\n",
      "train loss= 0.23310625196441295 val loss: 0.23380250237896294 train accuracy0.9008728511363031 val accuracy:0.9021235829474693\n",
      "train loss= 0.31061859271197806 val loss: 0.32169928462020375 train accuracy0.8772952259300655 val accuracy:0.8752195433498323\n",
      "train loss= 0.2470923974797711 val loss: 0.24496407855719685 train accuracy0.8894033743147587 val accuracy:0.888631646175954\n",
      "train loss= 0.2587748118747827 val loss: 0.267861707039267 train accuracy0.8955505881100644 val accuracy:0.8913460003193358\n",
      "train loss= 0.477958090596035 val loss: 0.4702694891282658 train accuracy0.8669700356591623 val accuracy:0.8671563148650806\n",
      "train loss= 0.22542910001190894 val loss: 0.22815688928646913 train accuracy0.9077917930704136 val accuracy:0.9037202618553409\n",
      "train loss= 0.26675331514029926 val loss: 0.2728614623723957 train accuracy0.8821650965990739 val accuracy:0.8797700782372665\n",
      "train loss= 0.3449566414285306 val loss: 0.33786110609428793 train accuracy0.8792644632497738 val accuracy:0.8796104103464794\n",
      "train loss= 0.5137656294224896 val loss: 0.5238160448276745 train accuracy0.871041566874235 val accuracy:0.8733035286603864\n",
      "train loss= 0.3034885210696072 val loss: 0.298167118074611 train accuracy0.8799563574431848 val accuracy:0.8794507424556921\n",
      "train loss= 0.2865848816514124 val loss: 0.2950422057965184 train accuracy0.8737293097024855 val accuracy:0.8740220341689287\n",
      "train loss= 0.26904661449494316 val loss: 0.2644442070223093 train accuracy0.8848262281121932 val accuracy:0.883681941561552\n",
      "train loss= 0.22564026502557255 val loss: 0.22364686362618144 train accuracy0.8936877960508809 val accuracy:0.894539358135079\n",
      "train loss= 0.2311456764882212 val loss: 0.23287921566462583 train accuracy0.9048113257757199 val accuracy:0.90771195912502\n",
      "train loss= 0.2148764962671253 val loss: 0.21274719469887343 train accuracy0.9020703603172069 val accuracy:0.9041992655277024\n",
      "train loss= 0.3126216920685094 val loss: 0.32296414284481917 train accuracy0.8735962531268295 val accuracy:0.8765767204215232\n",
      "train loss= 0.4227583574907403 val loss: 0.41462455520954006 train accuracy0.8855447336207355 val accuracy:0.8845601149608814\n",
      "train loss= 0.7665156456964063 val loss: 0.765842676009543 train accuracy0.8436585236042365 val accuracy:0.8333067220182021\n",
      "train loss= 0.6305690728119983 val loss: 0.5969350456156468 train accuracy0.8813933684602693 val accuracy:0.8811272553089574\n",
      "train loss= 0.3761906271948195 val loss: 0.3618436014285944 train accuracy0.8854116770450796 val accuracy:0.882723934216829\n",
      "train loss= 0.4431678217004986 val loss: 0.41059406612105054 train accuracy0.8839214433977327 val accuracy:0.8832029378891905\n",
      "train loss= 0.24900111996036145 val loss: 0.24995413993945298 train accuracy0.8893767629996274 val accuracy:0.8875139709404438\n",
      "train loss= 0.23825672360361633 val loss: 0.2330638672124231 train accuracy0.8953110862738837 val accuracy:0.8970940443876736\n",
      "train loss= 0.2367238611444053 val loss: 0.24146414507121072 train accuracy0.8891638724785779 val accuracy:0.884639948906275\n",
      "train loss= 0.21446975484208486 val loss: 0.20801893851397782 train accuracy0.9003406248336793 val accuracy:0.9020437490020756\n",
      "train loss= 0.27247227420749903 val loss: 0.27978960304030165 train accuracy0.8793709085102985 val accuracy:0.879291074564905\n",
      "train loss= 0.47955599750177375 val loss: 0.4684087913967098 train accuracy0.8807546968971207 val accuracy:0.8812869231997446\n",
      "train loss= 0.1883236878788729 val loss: 0.1834352902186383 train accuracy0.9142849539624248 val accuracy:0.9196072169886635\n",
      "train loss= 0.23018660829007892 val loss: 0.23501324173618435 train accuracy0.8918250039916973 val accuracy:0.8884719782851669\n",
      "train loss= 0.6374466599465191 val loss: 0.624767701804537 train accuracy0.8472510511469477 val accuracy:0.8481558358614083\n",
      "train loss= 0.21420460274410433 val loss: 0.2213067571404439 train accuracy0.8999946777369737 val accuracy:0.8967747086060993\n",
      "train loss= 0.2705352219947203 val loss: 0.26074151705228993 train accuracy0.8891372611634467 val accuracy:0.8882324764489861\n",
      "train loss= 0.5509519946477047 val loss: 0.5625509964319425 train accuracy0.8656660812177338 val accuracy:0.8661184735749641\n",
      "train loss= 0.28565491192253395 val loss: 0.27579342777998334 train accuracy0.8870615785832136 val accuracy:0.8875139709404438\n",
      "train loss= 0.24084139720212447 val loss: 0.24771509502721883 train accuracy0.886023737293097 val accuracy:0.883681941561552\n",
      "train loss= 0.2593132466851833 val loss: 0.2496015917061335 train accuracy0.8894299856298898 val accuracy:0.8883921443397733\n",
      "train loss= 0.270752554186525 val loss: 0.2795138154228717 train accuracy0.8805950290063335 val accuracy:0.8810474213635637\n",
      "train loss= 0.36061067087829607 val loss: 0.349483399136408 train accuracy0.8875405822555751 val accuracy:0.8863962957049337\n",
      "train loss= 0.1976322888629686 val loss: 0.20073414889963834 train accuracy0.9072861780829209 val accuracy:0.9005269040395977\n",
      "train loss= 0.21218420445221975 val loss: 0.2175587405158519 train accuracy0.8973335462238544 val accuracy:0.894539358135079\n",
      "train loss= 0.20242906906672223 val loss: 0.20935342074726968 train accuracy0.9044387673638832 val accuracy:0.8995688966948747\n",
      "train loss= 0.25904322305787686 val loss: 0.2507550291617055 train accuracy0.8907605513864495 val accuracy:0.889988823247645\n",
      "train loss= 0.1724292721149064 val loss: 0.17014995814221992 train accuracy0.9193144925222204 val accuracy:0.9231997445313748\n",
      "train loss= 0.1695626706074944 val loss: 0.17017598999701936 train accuracy0.9264463249773804 val accuracy:0.92487625738464\n",
      "train loss= 0.17824978216860152 val loss: 0.17429254918449433 train accuracy0.9144712331683432 val accuracy:0.9188887114801213\n",
      "train loss= 0.21862086774160727 val loss: 0.22615012819374472 train accuracy0.8937676299962745 val accuracy:0.8909468305923679\n",
      "train loss= 0.23337730773403548 val loss: 0.22327144831838794 train accuracy0.9248496460695088 val accuracy:0.9212038958965352\n",
      "train loss= 0.19400627819003208 val loss: 0.18261386787506947 train accuracy0.9142849539624248 val accuracy:0.9168928628452818\n",
      "train loss= 0.212504736896707 val loss: 0.2083988966628932 train accuracy0.9113310979828623 val accuracy:0.9068337857256905\n",
      "train loss= 0.21607809887992446 val loss: 0.20218446262681988 train accuracy0.9019905263718133 val accuracy:0.9034807600191601\n",
      "train loss= 0.230702280537955 val loss: 0.2259265123453343 train accuracy0.894539358135079 val accuracy:0.8960562030975571\n",
      "train loss= 0.20897941619114485 val loss: 0.21687280601596598 train accuracy0.8976528820054287 val accuracy:0.8933418489541753\n",
      "train loss= 0.278362136411054 val loss: 0.2710269261400489 train accuracy0.8900154345627761 val accuracy:0.8903081590292192\n",
      "train loss= 0.20396610756477515 val loss: 0.21083938050575185 train accuracy0.9016978019053702 val accuracy:0.8976528820054287\n",
      "train loss= 0.211275900587745 val loss: 0.20542574533356725 train accuracy0.8994092288040875 val accuracy:0.9018042471658949\n",
      "train loss= 0.34613833080889167 val loss: 0.3582429662019589 train accuracy0.8783862898504444 val accuracy:0.8797700782372665\n",
      "train loss= 0.32683830772679356 val loss: 0.3007862682572571 train accuracy0.8980786630475278 val accuracy:0.8996487306402683\n",
      "train loss= 0.24673130603049065 val loss: 0.22587731003479272 train accuracy0.921044228005748 val accuracy:0.924477087657672\n",
      "train loss= 0.3963961999050903 val loss: 0.388649059072474 train accuracy0.867475650646655 val accuracy:0.8690723295545266\n",
      "train loss= 0.35559748066294405 val loss: 0.3301240677411156 train accuracy0.8883921443397733 val accuracy:0.8883123103943797\n",
      "CPU times: user 2min 30s, sys: 737 ms, total: 2min 31s\n",
      "Wall time: 2min 31s\n"
     ]
    }
   ],
   "source": [
    "%%time\n",
    "W_new,B_new,loss_t,loss_v = MBSGD(X_prjct,Y,X_prjct_v,Y_dv,W,B,100,0.1,100)"
   ]
  },
  {
   "cell_type": "markdown",
   "id": "5f5a296e-92ee-46c0-8793-af1094db5a07",
   "metadata": {},
   "source": [
    "A,Z,output= feed_forward(np.array([1,0.4,-1,-1,1,2]),W,B)\n",
    "dw, db= back_prop(0,W,B,A,Z,output)\n",
    "W,B=update_network(dw,db,W,B,0.01)"
   ]
  },
  {
   "cell_type": "markdown",
   "id": "685af705-1803-4d53-8e47-06b854ab87cb",
   "metadata": {},
   "source": [
    "W,B=update_network(dw,db,W,B,0.01)"
   ]
  },
  {
   "cell_type": "code",
   "execution_count": 49,
   "id": "4cfd2add-e02e-4ead-b619-cb3225bb8016",
   "metadata": {},
   "outputs": [
    {
     "data": {
      "text/plain": [
       "(0.25041571904307497,\n",
       " 0.2574272711697536,\n",
       " 0.8826441002714354,\n",
       " 0.8805684176912023)"
      ]
     },
     "execution_count": 49,
     "metadata": {},
     "output_type": "execute_result"
    }
   ],
   "source": [
    "loss_and_accuracy(X_prjct,Y,X_prjct_v,Y_dv,W,B)"
   ]
  },
  {
   "cell_type": "code",
   "execution_count": 50,
   "id": "4c708e58-7d1d-4cf2-997d-cc2d2a73322a",
   "metadata": {},
   "outputs": [
    {
     "data": {
      "image/png": "[encoded data removed]",
      "text/plain": [
       "<Figure size 432x288 with 1 Axes>"
      ]
     },
     "metadata": {
      "needs_background": "light"
     },
     "output_type": "display_data"
    }
   ],
   "source": [
    "plt.plot([i for i in range(len(loss_t))],loss_t,label=\"Test Loss\")\n",
    "plt.plot([i for i in range(len(loss_v))],loss_v,label=\"Validation Loss\")\n",
    "plt.legend(['Test Loss','Validation Loss'])\n",
    "plt.xlabel('Epoch')\n",
    "plt.ylabel('Cross Entropy Loss')\n",
    "plt.title('CE Loss vs Epoch, At learning rate = 0.1')\n",
    "plt.savefig('MBSGD0.1.png')"
   ]
  },
  {
   "cell_type": "code",
   "execution_count": 51,
   "id": "6ffc00bb-997e-4564-851b-5ad0a53f4231",
   "metadata": {},
   "outputs": [
    {
     "name": "stdout",
     "output_type": "stream",
     "text": [
      "CPU times: user 2.3 s, sys: 17.4 ms, total: 2.32 s\n",
      "Wall time: 2.31 s\n"
     ]
    },
    {
     "data": {
      "text/plain": [
       "(0.14331000041974554,\n",
       " 0.1498050993906608,\n",
       " 0.9487199957421896,\n",
       " 0.9359731757943478)"
      ]
     },
     "execution_count": 51,
     "metadata": {},
     "output_type": "execute_result"
    }
   ],
   "source": [
    "%%time\n",
    "W_new,B_new,loss_t,loss_v=SGD(X_prjct,Y,X_prjct_v,Y_dv,W,B,15000,0.001)\n",
    "loss_and_accuracy(X_prjct,Y,X_prjct_v,Y_dv,W,B)"
   ]
  }
 ],
 "metadata": {
  "kernelspec": {
   "display_name": "Python 3 (ipykernel)",
   "language": "python",
   "name": "python3"
  },
  "language_info": {
   "codemirror_mode": {
    "name": "ipython",
    "version": 3
   },
   "file_extension": ".py",
   "mimetype": "text/x-python",
   "name": "python",
   "nbconvert_exporter": "python",
   "pygments_lexer": "ipython3",
   "version": "3.9.7"
  }
 },
 "nbformat": 4,
 "nbformat_minor": 5
}
